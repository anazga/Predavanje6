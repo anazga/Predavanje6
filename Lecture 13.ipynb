{
 "cells": [
  {
   "cell_type": "markdown",
   "metadata": {},
   "source": [
    "# Numerical integration\n"
   ]
  },
  {
   "cell_type": "markdown",
   "metadata": {},
   "source": [
    "In the next part, we will try to write the composite trapezoidal formula recursively, so that we have as little  calucations as possible when increasing the number of points!"
   ]
  },
  {
   "cell_type": "code",
   "execution_count": 3,
   "metadata": {
    "scrolled": true
   },
   "outputs": [
    {
     "data": {
      "image/jpeg": "[encoded data removed]",
      "text/html": [
       "\n",
       "        <iframe\n",
       "            width=\"400\"\n",
       "            height=\"300\"\n",
       "            src=\"https://www.youtube.com/embed/ZS9aTy-_rEM\"\n",
       "            frameborder=\"0\"\n",
       "            allowfullscreen\n",
       "        ></iframe>\n",
       "        "
      ],
      "text/plain": [
       "<IPython.lib.display.YouTubeVideo at 0x21edf42ecf8>"
      ]
     },
     "metadata": {},
     "output_type": "display_data"
    }
   ],
   "source": [
    "from IPython.lib.display import YouTubeVideo\n",
    "vid = YouTubeVideo(\"ZS9aTy-_rEM\")\n",
    "display(vid)"
   ]
  },
  {
   "cell_type": "markdown",
   "metadata": {},
   "source": [
    "The following is a comparison of composite trapezoidal rule with the value we get using the built-in function from the scipy library"
   ]
  },
  {
   "cell_type": "code",
   "execution_count": 4,
   "metadata": {},
   "outputs": [
    {
     "name": "stdout",
     "output_type": "stream",
     "text": [
      "Aproksimacija-implementacija= 1.9742316019455508\n"
     ]
    }
   ],
   "source": [
    "def trapez(f,a,b,N=16):\n",
    "    x = np.linspace(a,b,N+1) \n",
    "    #print(x)\n",
    "    y = f(x)\n",
    "    y_right = y[1:] # lijevi rub intervala\n",
    "    y_left = y[:-1] # desni rub intervala\n",
    "    h = (b - a)/N\n",
    "    Tn = np.sum(h*(y_right + y_left)/2)\n",
    "    return Tn\n",
    "\n",
    "import numpy as np\n",
    "from numpy import exp\n",
    "from numpy import cos\n",
    "from numpy import pi\n",
    "from numpy import sin\n",
    "\n",
    "#trapez(lambda x : x*exp(-x)*cos(2*x),0,2*pi,5)\n",
    "\n",
    "approx1=trapez(lambda x : sin(x),0, pi,8)\n",
    "print(\"Aproksimacija-implementacija=\", approx1)"
   ]
  },
  {
   "cell_type": "code",
   "execution_count": 5,
   "metadata": {},
   "outputs": [
    {
     "name": "stdout",
     "output_type": "stream",
     "text": [
      "Value  from scipy(trapezoid): 1.9742316019455508\n"
     ]
    }
   ],
   "source": [
    "from scipy import integrate\n",
    "x = np.linspace(0,pi,9)\n",
    "y=sin(x)\n",
    "print(\"Value  from scipy(trapezoid):\", integrate.trapz(y, x))"
   ]
  },
  {
   "cell_type": "markdown",
   "metadata": {},
   "source": [
    "In the following code, a recursive trapezoidal rule is implemented and we solve an example that was solved in video lectures"
   ]
  },
  {
   "cell_type": "code",
   "execution_count": 6,
   "metadata": {},
   "outputs": [
    {
     "name": "stdout",
     "output_type": "stream",
     "text": [
      "Aproksimacija za k=5: 1.9935703437723393\n",
      "Aproksimacija za k=6: 1.998393360970144\n",
      "Aproksimacija za k=7: 1.9995983886400366\n"
     ]
    }
   ],
   "source": [
    "#funkcija koja računa vrojednost integrala I_k sa brojem intervala 2^{k-1} iz vrijednosti integrala I_{k-1}\n",
    "\n",
    "\n",
    "def trap_rec(f,a,b, I0, k):\n",
    "    if k==1:\n",
    "        I1=(f(a)+f(b))*(b-a)/2.0\n",
    "    else:\n",
    "        n=2**(k-2)\n",
    "        h=(b-a)/n\n",
    "        x=a+h/2.0\n",
    "        new_points_sum=0.0\n",
    "        for j in range(n):\n",
    "            new_points_sum=new_points_sum+f(x)\n",
    "            x=x+h\n",
    "        I1=(I0+h*new_points_sum)/2.0\n",
    "    return I1\n",
    "# Primjer s video predavanja\n",
    "\n",
    "approx2=trap_rec(lambda x : sin(x),0, pi,approx1,5)\n",
    "print(\"Aproksimacija za k=5:\", approx2)\n",
    "\n",
    "approx3=trap_rec(lambda x : sin(x),0, pi,approx2,6)\n",
    "print(\"Aproksimacija za k=6:\", approx3)    \n",
    "\n",
    "approx4=trap_rec(lambda x : sin(x),0, pi,approx3,7)\n",
    "print(\"Aproksimacija za k=7:\", approx4)    \n",
    "    "
   ]
  },
  {
   "cell_type": "markdown",
   "metadata": {},
   "source": [
    "Homework.  Implement a function that calculates with a recursive trapezoidal rule the value of the integral up to a given accuracy (this implies that $ | I_k-I_{k-1} | <\\varepsilon $ where $ \\varepsilon $ is a predetermined accuracy. If it cannot be achieved stated, print a message that the procedure cannot give such accuracy)"
   ]
  },
  {
   "cell_type": "markdown",
   "metadata": {},
   "source": [
    " # Richardson extrapolation\n",
    " Richardson extrapolation is a general procedure for improving the accuracy of approximation formulas. The following video will explain the general procedure and application to numerical derivation​. The following video is in croation. The Richardson extrapolation does not enter midterm exam, but it enters third online quiz. Please read about this topic from the book."
   ]
  },
  {
   "cell_type": "code",
   "execution_count": 26,
   "metadata": {
    "scrolled": true
   },
   "outputs": [
    {
     "data": {
      "text/html": [
       "\n",
       "        <iframe\n",
       "            width=\"400\"\n",
       "            height=\"300\"\n",
       "            src=\"https://www.youtube.com/embed/y2GeEeY54EY\"\n",
       "            frameborder=\"0\"\n",
       "            allowfullscreen\n",
       "        ></iframe>\n",
       "        "
      ],
      "text/plain": [
       "<IPython.lib.display.YouTubeVideo at 0x159fd3caef0>"
      ]
     },
     "metadata": {},
     "output_type": "display_data"
    }
   ],
   "source": [
    "vid = YouTubeVideo(\"y2GeEeY54EY\")\n",
    "display(vid)"
   ]
  },
  {
   "cell_type": "markdown",
   "metadata": {},
   "source": [
    "# Romberg integration"
   ]
  },
  {
   "cell_type": "markdown",
   "metadata": {},
   "source": [
    "We will now apply Richardson’s extrapolation to improve the accuracy of the composite trapezoidal rule. We call such a procedure the Romberg algorithm. This is also not entering midterm. Read about this topic from the book!"
   ]
  },
  {
   "cell_type": "code",
   "execution_count": 27,
   "metadata": {},
   "outputs": [
    {
     "data": {
      "text/html": [
       "\n",
       "        <iframe\n",
       "            width=\"400\"\n",
       "            height=\"300\"\n",
       "            src=\"https://www.youtube.com/embed/r0B5vZopCKw\"\n",
       "            frameborder=\"0\"\n",
       "            allowfullscreen\n",
       "        ></iframe>\n",
       "        "
      ],
      "text/plain": [
       "<IPython.lib.display.YouTubeVideo at 0x159fd500940>"
      ]
     },
     "metadata": {},
     "output_type": "display_data"
    }
   ],
   "source": [
    "vid = YouTubeVideo(\"r0B5vZopCKw\")\n",
    "display(vid)"
   ]
  },
  {
   "cell_type": "code",
   "execution_count": 7,
   "metadata": {},
   "outputs": [
    {
     "name": "stdout",
     "output_type": "stream",
     "text": [
      "Romberg integration of <function vectorize1.<locals>.vfunc at 0x0000021EDF461A60> from [0, 3.141592653589793]\n",
      "\n",
      " Steps  StepSize   Results\n",
      "     1  3.141593  0.000000 \n",
      "     2  1.570796  1.570796  2.094395 \n",
      "     4  0.785398  1.896119  2.004560  1.998571 \n",
      "     8  0.392699  1.974232  2.000269  1.999983  2.000006 \n",
      "    16  0.196350  1.993570  2.000017  2.000000  2.000000  2.000000 \n",
      "    32  0.098175  1.998393  2.000001  2.000000  2.000000  2.000000  2.000000 \n",
      "\n",
      "The final result is 2.000000000001321 after 33 function evaluations.\n"
     ]
    }
   ],
   "source": [
    "from scipy import integrate\n",
    "\n",
    "result = integrate.romberg(sin, 0, pi, show=True)"
   ]
  },
  {
   "cell_type": "code",
   "execution_count": null,
   "metadata": {},
   "outputs": [],
   "source": []
  }
 ],
 "metadata": {
  "kernelspec": {
   "display_name": "Python 3",
   "language": "python",
   "name": "python3"
  },
  "language_info": {
   "codemirror_mode": {
    "name": "ipython",
    "version": 3
   },
   "file_extension": ".py",
   "mimetype": "text/x-python",
   "name": "python",
   "nbconvert_exporter": "python",
   "pygments_lexer": "ipython3",
   "version": "3.6.4"
  }
 },
 "nbformat": 4,
 "nbformat_minor": 2
}
